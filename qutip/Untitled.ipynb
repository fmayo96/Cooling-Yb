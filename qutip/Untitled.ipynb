{
 "cells": [
  {
   "cell_type": "code",
   "execution_count": 1,
   "id": "454a0fbe",
   "metadata": {},
   "outputs": [
    {
     "name": "stdout",
     "output_type": "stream",
     "text": [
      "Defaulting to user installation because normal site-packages is not writeable\n",
      "Requirement already satisfied: qutip in /Users/francomayo/Library/Python/3.9/lib/python/site-packages (4.7.4)\n",
      "Requirement already satisfied: numpy>=1.16.6 in /Users/francomayo/Library/Python/3.9/lib/python/site-packages (from qutip) (1.24.4)\n",
      "Requirement already satisfied: scipy>=1.0 in /Users/francomayo/Library/Python/3.9/lib/python/site-packages (from qutip) (1.10.1)\n",
      "Requirement already satisfied: packaging in /Users/francomayo/Library/Python/3.9/lib/python/site-packages (from qutip) (23.1)\n",
      "\n",
      "\u001b[1m[\u001b[0m\u001b[34;49mnotice\u001b[0m\u001b[1;39;49m]\u001b[0m\u001b[39;49m A new release of pip is available: \u001b[0m\u001b[31;49m23.2.1\u001b[0m\u001b[39;49m -> \u001b[0m\u001b[32;49m24.0\u001b[0m\n",
      "\u001b[1m[\u001b[0m\u001b[34;49mnotice\u001b[0m\u001b[1;39;49m]\u001b[0m\u001b[39;49m To update, run: \u001b[0m\u001b[32;49m/Library/Developer/CommandLineTools/usr/bin/python3 -m pip install --upgrade pip\u001b[0m\n"
     ]
    }
   ],
   "source": [
    "!pip install qutip"
   ]
  },
  {
   "cell_type": "code",
   "execution_count": 2,
   "id": "4105ede3",
   "metadata": {},
   "outputs": [],
   "source": [
    "from qutip import *\n",
    "import numpy as np\n",
    "import matplotlib.pyplot as plt"
   ]
  },
  {
   "cell_type": "code",
   "execution_count": 3,
   "id": "b34c2895",
   "metadata": {},
   "outputs": [],
   "source": [
    "#This File contains all the parameters used in the program.\n",
    "#Physical constants, transition rates, etc.\n",
    "\n",
    "import numpy as np \n",
    "\n",
    "# Universal constants\n",
    "pi = np.pi\n",
    "h = 6.62607015e-34  # in J s\n",
    "hbar = h/(2*pi)\n",
    "c = 2.99792458e10   # cm/s\n",
    "kB = 1.380649e-23   # J/K\n",
    "eps0 = 8.8541878128e-14    # F/cm = C/ (V cm)\n",
    "# Dipolar moment\n",
    "d = 3.34e-31 # C cm\n",
    "\n",
    "#Transition energies in J (we converted the data from cm^-1 to J by multiplying by hc)\n",
    "w = 9811*h*c\n",
    "w1 = 237*h*c\n",
    "w2 = 138*h*c\n",
    "w3 = 102*h*c\n",
    "w4 = 132*h*c\n",
    "w5 = 150*h*c\n",
    "#Spontaneous Emission in s^-1\n",
    "gamma = 314.5\n",
    "#Non resonant transition rates in s^-1\n",
    "gamma_nr = 1e12 \n",
    "#Vibronic couplings in s^-1 (k/hbar)\n",
    "k_12 = 6.35e11\n",
    "k_23 = 2.8e11 \n",
    "k_34 = 2.25e11\n",
    "k_56 = 5.4e11 \n",
    "k_67 = 4.1e11 \n",
    "\n",
    "#Refraction index\n",
    "n = 1.45\n",
    "#Absortion Coefficients\n",
    "alpha_imp = 4e-4 # cm-1\n",
    "alpha_rad = 1e-2 # cm-1\n",
    "#Energy levels\n",
    "E0 = 0\n",
    "E1 = w1\n",
    "E2 = E1 + w2\n",
    "E3 = E2 + w3\n",
    "E4 = E3 + w\n",
    "E5 = E4 + w4\n",
    "E6 = E5 + w5 \n",
    "E_gs = np.array([E0,E1,E2,E3])\n",
    "E_es = np.array([E4,E5,E6])\n",
    "\n",
    "H = np.zeros(7, dtype=np.complex128)\n",
    "H[0] = E0\n",
    "H[1] = E1\n",
    "H[2] = E2\n",
    "H[3] = E3\n",
    "H[4] = E4\n",
    "H[5] = E5\n",
    "H[6] = E6\n",
    "\n"
   ]
  },
  {
   "cell_type": "code",
   "execution_count": 5,
   "id": "49f82089",
   "metadata": {},
   "outputs": [],
   "source": [
    "def Rabifreq(j_0):\n",
    "    E_0 = np.sqrt(2*j_0*1e6/(c*n*eps0))\n",
    "    return d*E_0/hbar\n",
    "\n",
    "def N(beta,omega):\n",
    "    return 1/(np.exp(beta*omega)-1)\n",
    "def Thermal_state(beta, H):\n",
    "    state = np.exp(-beta*H)\n",
    "    state[-3:] = [0,0,0]\n",
    "    return state / np.sum(state)\n",
    "\n",
    "\n",
    "\n"
   ]
  },
  {
   "cell_type": "code",
   "execution_count": 16,
   "id": "0bfd9c49",
   "metadata": {},
   "outputs": [],
   "source": [
    "def Hamiltonian(j_0_3, j_0_4):\n",
    "    Omega_4 = Rabifreq(j_0_4)\n",
    "    Omega_3 = Rabifreq(j_0_3)\n",
    "    H = np.zeros((7,7))\n",
    "    H[3,4] = Omega_4\n",
    "    H[4,3] = Omega_4\n",
    "    H[2,4] = Omega_3\n",
    "    H[4,2] = Omega_3\n",
    "    return H\n"
   ]
  },
  {
   "cell_type": "code",
   "execution_count": 19,
   "id": "dd728e63",
   "metadata": {},
   "outputs": [],
   "source": [
    "def steady_state(T, j_0_3, j_0_4):\n",
    "    beta = 1/(300*kB)\n",
    "    c_nr = np.zeros((7,7))\n",
    "    ws = [w1, w2, w3, w4, w4, w5]\n",
    "    for i in range(6):\n",
    "        c_nr[i,i+1] = np.sqrt(N(beta, ws[i])+1)\n",
    "    c_nr[3,4] = 0\n",
    "    c_nr = np.sqrt(gamma_nr)* c_nr\n",
    "\n",
    "    c_nr = Qobj(c_nr)\n",
    "\n",
    "    c_nr_dag = np.zeros((7,7))\n",
    "    for i in range(1, 7):\n",
    "        c_nr_dag[i,i-1] = np.sqrt(N(beta, ws[i-1]))\n",
    "    c_nr_dag[4,3] = 0\n",
    "\n",
    "    c_nr_dag = Qobj(c_nr_dag * np.sqrt(gamma_nr))\n",
    "\n",
    "    c_se = np.zeros((7,7))\n",
    "    for i in range(4):\n",
    "        for j in range(4, 7):\n",
    "            c_se[i,j] = 1\n",
    "    c_se = np.sqrt(gamma)*c_se\n",
    "    c_se = Qobj(c_se)\n",
    "\n",
    "\n",
    "    H = Hamiltonian(j_0_3, j_0_4)\n",
    "    H = Qobj(H) \n",
    "    rho_ss = steadystate(H, [c_nr, c_nr_dag, c_se])\n",
    "    return rho_ss"
   ]
  },
  {
   "cell_type": "code",
   "execution_count": 20,
   "id": "7c080fe7",
   "metadata": {},
   "outputs": [
    {
     "data": {
      "text/latex": [
       "Quantum object: dims = [[7], [7]], shape = (7, 7), type = oper, isherm = True $ \\\\ \\left(\\begin{matrix}0.589 & 5.291\\times10^{-11} & 2.534\\times10^{-11} & 1.320\\times10^{-11} & 0.0 & 0.0 & 0.0\\\\5.291\\times10^{-11} & 0.189 & 3.410\\times10^{-11} & 1.644\\times10^{-11} & 0.0 & 0.0 & 0.0\\\\2.534\\times10^{-11} & 3.410\\times10^{-11} & 0.098 & 2.069\\times10^{-11} & 0.0 & 0.0 & 0.0\\\\1.320\\times10^{-11} & 1.644\\times10^{-11} & 2.069\\times10^{-11} & 0.060 & 7.215\\times10^{-07}j & 0.0 & 0.0\\\\0.0 & 0.0 & 0.0 & -7.215\\times10^{-07}j & 0.036 & -3.865\\times10^{-11} & -1.842\\times10^{-11}\\\\0.0 & 0.0 & 0.0 & 0.0 & -3.865\\times10^{-11} & 0.019 & -2.300\\times10^{-11}\\\\0.0 & 0.0 & 0.0 & 0.0 & -1.842\\times10^{-11} & -2.300\\times10^{-11} & 0.009\\\\\\end{matrix}\\right)$"
      ],
      "text/plain": [
       "Quantum object: dims = [[7], [7]], shape = (7, 7), type = oper, isherm = True\n",
       "Qobj data =\n",
       "[[ 5.89345715e-01+0.00000000e+00j  5.29077777e-11+0.00000000e+00j\n",
       "   2.53414322e-11+0.00000000e+00j  1.31970657e-11+0.00000000e+00j\n",
       "   0.00000000e+00+4.05695058e-15j  0.00000000e+00-3.25987751e-24j\n",
       "   0.00000000e+00-2.10716791e-24j]\n",
       " [ 5.29077777e-11+0.00000000e+00j  1.89119526e-01+0.00000000e+00j\n",
       "   3.40995813e-11+0.00000000e+00j  1.64370592e-11+0.00000000e+00j\n",
       "   0.00000000e+00+1.93216596e-15j  0.00000000e+00+1.42042519e-15j\n",
       "   0.00000000e+00-1.91292047e-24j]\n",
       " [ 2.53414322e-11+0.00000000e+00j  3.40995813e-11+0.00000000e+00j\n",
       "   9.75672483e-02+0.00000000e+00j  2.06851975e-11+0.00000000e+00j\n",
       "   0.00000000e+00+2.00668680e-15j  0.00000000e+00+1.25157743e-15j\n",
       "   0.00000000e+00+5.10298897e-16j]\n",
       " [ 1.31970657e-11+0.00000000e+00j  1.64370592e-11+0.00000000e+00j\n",
       "   2.06851975e-11+0.00000000e+00j  5.98210573e-02+0.00000000e+00j\n",
       "   0.00000000e+00+7.21491369e-07j  0.00000000e+00+1.55131246e-15j\n",
       "   0.00000000e+00+9.31318697e-16j]\n",
       " [ 0.00000000e+00-4.05695058e-15j  0.00000000e+00-1.93216596e-15j\n",
       "   0.00000000e+00-2.00668680e-15j  0.00000000e+00-7.21491369e-07j\n",
       "   3.58446297e-02+0.00000000e+00j -3.86450082e-11+0.00000000e+00j\n",
       "  -1.84173389e-11+0.00000000e+00j]\n",
       " [ 0.00000000e+00+3.25987751e-24j  0.00000000e+00-1.42042519e-15j\n",
       "   0.00000000e+00-1.25157743e-15j  0.00000000e+00-1.55131246e-15j\n",
       "  -3.86450082e-11+0.00000000e+00j  1.90321933e-02+0.00000000e+00j\n",
       "  -2.30041445e-11+0.00000000e+00j]\n",
       " [ 0.00000000e+00+2.10716791e-24j  0.00000000e+00+1.91292047e-24j\n",
       "   0.00000000e+00-5.10298897e-16j  0.00000000e+00-9.31318697e-16j\n",
       "  -1.84173389e-11+0.00000000e+00j -2.30041445e-11+0.00000000e+00j\n",
       "   9.26963024e-03+0.00000000e+00j]]"
      ]
     },
     "execution_count": 20,
     "metadata": {},
     "output_type": "execute_result"
    }
   ],
   "source": [
    "rho_ss = steady_state(300, 0.0, 0.6)\n",
    "rho_ss"
   ]
  },
  {
   "cell_type": "code",
   "execution_count": 21,
   "id": "4e83bab5",
   "metadata": {},
   "outputs": [
    {
     "name": "stdout",
     "output_type": "stream",
     "text": [
      "(0.06414645328981827+0j)\n"
     ]
    }
   ],
   "source": [
    "print(rho_ss[4,4] + rho_ss[5,5] + rho_ss[6,6])"
   ]
  },
  {
   "cell_type": "code",
   "execution_count": null,
   "id": "6dec51dc",
   "metadata": {},
   "outputs": [],
   "source": []
  }
 ],
 "metadata": {
  "kernelspec": {
   "display_name": "Python 3 (ipykernel)",
   "language": "python",
   "name": "python3"
  },
  "language_info": {
   "codemirror_mode": {
    "name": "ipython",
    "version": 3
   },
   "file_extension": ".py",
   "mimetype": "text/x-python",
   "name": "python",
   "nbconvert_exporter": "python",
   "pygments_lexer": "ipython3",
   "version": "3.11.3"
  }
 },
 "nbformat": 4,
 "nbformat_minor": 5
}
