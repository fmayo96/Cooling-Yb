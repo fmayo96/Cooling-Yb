{
 "cells": [
  {
   "cell_type": "code",
   "execution_count": 1,
   "id": "454a0fbe",
   "metadata": {},
   "outputs": [
    {
     "name": "stdout",
     "output_type": "stream",
     "text": [
      "Requirement already satisfied: qutip in /home/franco/anaconda3/lib/python3.11/site-packages (4.7.3)\r\n",
      "Requirement already satisfied: numpy>=1.16.6 in /home/franco/anaconda3/lib/python3.11/site-packages (from qutip) (1.24.3)\r\n",
      "Requirement already satisfied: scipy>=1.0 in /home/franco/anaconda3/lib/python3.11/site-packages (from qutip) (1.10.1)\r\n",
      "Requirement already satisfied: packaging in /home/franco/anaconda3/lib/python3.11/site-packages (from qutip) (23.0)\r\n"
     ]
    }
   ],
   "source": [
    "!pip install qutip"
   ]
  },
  {
   "cell_type": "code",
   "execution_count": 2,
   "id": "4105ede3",
   "metadata": {},
   "outputs": [],
   "source": [
    "from qutip import *\n",
    "import numpy as np\n",
    "import matplotlib.pyplot as plt"
   ]
  },
  {
   "cell_type": "code",
   "execution_count": 3,
   "id": "b34c2895",
   "metadata": {},
   "outputs": [],
   "source": [
    "#This File contains all the parameters used in the program.\n",
    "#Physical constants, transition rates, etc.\n",
    "\n",
    "import numpy as np \n",
    "\n",
    "# Universal constants\n",
    "pi = np.pi\n",
    "h = 6.62607015e-34  # in J s\n",
    "hbar = h/(2*pi)\n",
    "c = 2.99792458e10   # cm/s\n",
    "kB = 1.380649e-23   # J/K\n",
    "eps0 = 8.8541878128e-14    # F/cm = C/ (V cm)\n",
    "# Dipolar moment\n",
    "d = 3.34e-31 # C cm\n",
    "\n",
    "#Transition energies in J (we converted the data from cm^-1 to J by multiplying by hc)\n",
    "w = 9811*h*c\n",
    "w1 = 237*h*c\n",
    "w2 = 138*h*c\n",
    "w3 = 102*h*c\n",
    "w4 = 132*h*c\n",
    "w5 = 150*h*c\n",
    "#Spontaneous Emission in s^-1\n",
    "gamma = 314.5\n",
    "#Non resonant transition rates in s^-1\n",
    "gamma_nr = 1e12 \n",
    "#Vibronic couplings in s^-1 (k/hbar)\n",
    "k_12 = 6.35e11\n",
    "k_23 = 2.8e11 \n",
    "k_34 = 2.25e11\n",
    "k_56 = 5.4e11 \n",
    "k_67 = 4.1e11 \n",
    "\n",
    "#Refraction index\n",
    "n = 1.45\n",
    "#Absortion Coefficients\n",
    "alpha_imp = 4e-4 # cm-1\n",
    "alpha_rad = 1e-2 # cm-1\n",
    "#Energy levels\n",
    "E0 = 0\n",
    "E1 = w1\n",
    "E2 = E1 + w2\n",
    "E3 = E2 + w3\n",
    "E4 = E3 + w\n",
    "E5 = E4 + w4\n",
    "E6 = E5 + w5 \n",
    "E_gs = np.array([E0,E1,E2,E3])\n",
    "E_es = np.array([E4,E5,E6])\n",
    "\n",
    "H = np.zeros(7, dtype=np.complex128)\n",
    "H[0] = E0\n",
    "H[1] = E1\n",
    "H[2] = E2\n",
    "H[3] = E3\n",
    "H[4] = E4\n",
    "H[5] = E5\n",
    "H[6] = E6\n",
    "\n"
   ]
  },
  {
   "cell_type": "code",
   "execution_count": 69,
   "id": "49f82089",
   "metadata": {},
   "outputs": [],
   "source": [
    "def Rabifreq(j_0):\n",
    "    E_0 = np.sqrt(2*j_0/(c*n*eps0))\n",
    "    return d*E_0/hbar\n",
    "\n",
    "def N(beta,omega):\n",
    "    return 1/(np.exp(beta*omega)-1)\n",
    "def Thermal_state(beta, H):\n",
    "    state = np.exp(-beta*H)\n",
    "    state[-3:] = [0,0,0]\n",
    "    return state / np.sum(state)\n",
    "\n",
    "\n",
    "\n"
   ]
  },
  {
   "cell_type": "code",
   "execution_count": 85,
   "id": "0bfd9c49",
   "metadata": {},
   "outputs": [],
   "source": [
    "def Hamiltonian(j_0_3, j_0_4):\n",
    "    Omega_4 = Rabifreq(j_0_4*1e6)\n",
    "    Omega_3 = Rabifreq(j_0_3)\n",
    "    H = np.zeros((7,7))\n",
    "    H[3,4] = Omega_4*hbar\n",
    "    H[4,3] = Omega_4*hbar\n",
    "    H[2,4] = Omega_3\n",
    "    H[4,2] = Omega_3\n",
    "    return H\n"
   ]
  },
  {
   "cell_type": "code",
   "execution_count": 86,
   "id": "dd728e63",
   "metadata": {},
   "outputs": [],
   "source": [
    "def steady_state(T, j_0_3, j_0_4):\n",
    "    beta = 1/(300*kB)\n",
    "    c_nr = np.zeros((7,7))\n",
    "    ws = [w1, w2, w3, w4, w4, w5]\n",
    "    for i in range(6):\n",
    "        c_nr[i,i+1] = np.sqrt(N(beta, ws[i])+1)\n",
    "    c_nr[3,4] = 0\n",
    "    c_nr = np.sqrt(gamma_nr*2)* c_nr\n",
    "\n",
    "    c_nr = Qobj(c_nr)\n",
    "\n",
    "    c_nr_dag = np.zeros((7,7))\n",
    "    for i in range(1, 7):\n",
    "        c_nr_dag[i,i-1] = np.sqrt(N(beta, ws[i-1]))\n",
    "    c_nr_dag[4,3] = 0\n",
    "\n",
    "    c_nr_dag = Qobj(c_nr_dag * np.sqrt(gamma_nr*2))\n",
    "\n",
    "    c_se = np.zeros((7,7))\n",
    "    for i in range(4):\n",
    "        for j in range(4, 7):\n",
    "            c_se[i,j] = 1\n",
    "    c_se = np.sqrt(gamma)*c_nr\n",
    "    c_se = Qobj(c_se)\n",
    "\n",
    "\n",
    "    H = Hamiltonian(j_0_3, j_0_4)\n",
    "    H = Qobj(H) \n",
    "    rho_ss = steadystate(H, [c_nr, c_nr_dag, c_se])\n",
    "    return rho_ss"
   ]
  },
  {
   "cell_type": "code",
   "execution_count": 87,
   "id": "7c080fe7",
   "metadata": {},
   "outputs": [
    {
     "data": {
      "text/latex": [
       "Quantum object: dims = [[7], [7]], shape = (7, 7), type = oper, isherm = True $ \\\\ \\left(\\begin{matrix}0.999 & 0.0 & 0.0 & 0.0 & 0.0 & 0.0 & 0.0\\\\0.0 & 0.001 & 0.0 & 0.0 & 0.0 & 0.0 & 0.0\\\\0.0 & 0.0 & 1.661\\times10^{-06} & 0.0 & 0.0 & 0.0 & 0.0\\\\0.0 & 0.0 & 0.0 & 3.229\\times10^{-09} & 0.0 & 0.0 & 0.0\\\\0.0 & 0.0 & 0.0 & 0.0 & 3.517\\times10^{-10} & 0.0 & 0.0\\\\0.0 & 0.0 & 0.0 & 0.0 & 0.0 & 5.920\\times10^{-13} & 0.0\\\\0.0 & 0.0 & 0.0 & 0.0 & 0.0 & 0.0 & 9.138\\times10^{-16}\\\\\\end{matrix}\\right)$"
      ],
      "text/plain": [
       "Quantum object: dims = [[7], [7]], shape = (7, 7), type = oper, isherm = True\n",
       "Qobj data =\n",
       "[[9.98982263e-01+0.00000000e+00j 0.00000000e+00+0.00000000e+00j\n",
       "  0.00000000e+00+0.00000000e+00j 0.00000000e+00+0.00000000e+00j\n",
       "  0.00000000e+00+0.00000000e+00j 0.00000000e+00+0.00000000e+00j\n",
       "  0.00000000e+00+0.00000000e+00j]\n",
       " [0.00000000e+00+0.00000000e+00j 1.01607240e-03+0.00000000e+00j\n",
       "  0.00000000e+00+0.00000000e+00j 0.00000000e+00+0.00000000e+00j\n",
       "  0.00000000e+00+0.00000000e+00j 0.00000000e+00+0.00000000e+00j\n",
       "  0.00000000e+00+0.00000000e+00j]\n",
       " [0.00000000e+00+0.00000000e+00j 0.00000000e+00+0.00000000e+00j\n",
       "  1.66147181e-06+0.00000000e+00j 0.00000000e+00+0.00000000e+00j\n",
       "  0.00000000e+00+1.42525299e-16j 0.00000000e+00+0.00000000e+00j\n",
       "  0.00000000e+00+0.00000000e+00j]\n",
       " [0.00000000e+00+0.00000000e+00j 0.00000000e+00+0.00000000e+00j\n",
       "  0.00000000e+00+0.00000000e+00j 3.22881856e-09+0.00000000e+00j\n",
       "  0.00000000e+00+0.00000000e+00j 0.00000000e+00+2.56396852e-19j\n",
       "  0.00000000e+00+0.00000000e+00j]\n",
       " [0.00000000e+00+0.00000000e+00j 0.00000000e+00+0.00000000e+00j\n",
       "  0.00000000e+00-1.42525299e-16j 0.00000000e+00+0.00000000e+00j\n",
       "  3.51745053e-10+0.00000000e+00j 0.00000000e+00+0.00000000e+00j\n",
       "  0.00000000e+00+0.00000000e+00j]\n",
       " [0.00000000e+00+0.00000000e+00j 0.00000000e+00+0.00000000e+00j\n",
       "  0.00000000e+00+0.00000000e+00j 0.00000000e+00-2.56396852e-19j\n",
       "  0.00000000e+00+0.00000000e+00j 5.91961384e-13+0.00000000e+00j\n",
       "  0.00000000e+00+0.00000000e+00j]\n",
       " [0.00000000e+00+0.00000000e+00j 0.00000000e+00+0.00000000e+00j\n",
       "  0.00000000e+00+0.00000000e+00j 0.00000000e+00+0.00000000e+00j\n",
       "  0.00000000e+00+0.00000000e+00j 0.00000000e+00+0.00000000e+00j\n",
       "  9.13834572e-16+0.00000000e+00j]]"
      ]
     },
     "execution_count": 87,
     "metadata": {},
     "output_type": "execute_result"
    }
   ],
   "source": [
    "rho_ss = steady_state(300, 0.6, 0.0)\n",
    "rho_ss"
   ]
  },
  {
   "cell_type": "code",
   "execution_count": 73,
   "id": "4e83bab5",
   "metadata": {},
   "outputs": [
    {
     "name": "stdout",
     "output_type": "stream",
     "text": [
      "(1.4074807535593907e-09+0j)\n"
     ]
    }
   ],
   "source": [
    "print(rho_ss[4,4] + rho_ss[5,5] + rho_ss[6,6])"
   ]
  },
  {
   "cell_type": "code",
   "execution_count": null,
   "id": "6dec51dc",
   "metadata": {},
   "outputs": [],
   "source": []
  }
 ],
 "metadata": {
  "kernelspec": {
   "display_name": "Python 3 (ipykernel)",
   "language": "python",
   "name": "python3"
  },
  "language_info": {
   "codemirror_mode": {
    "name": "ipython",
    "version": 3
   },
   "file_extension": ".py",
   "mimetype": "text/x-python",
   "name": "python",
   "nbconvert_exporter": "python",
   "pygments_lexer": "ipython3",
   "version": "3.11.3"
  }
 },
 "nbformat": 4,
 "nbformat_minor": 5
}
