{
 "cells": [
  {
   "cell_type": "code",
   "execution_count": 1,
   "id": "454a0fbe",
   "metadata": {},
   "outputs": [
    {
     "name": "stdout",
     "output_type": "stream",
     "text": [
      "Requirement already satisfied: qutip in /home/franco/anaconda3/lib/python3.11/site-packages (4.7.3)\n",
      "Requirement already satisfied: numpy>=1.16.6 in /home/franco/anaconda3/lib/python3.11/site-packages (from qutip) (1.24.3)\n",
      "Requirement already satisfied: scipy>=1.0 in /home/franco/anaconda3/lib/python3.11/site-packages (from qutip) (1.10.1)\n",
      "Requirement already satisfied: packaging in /home/franco/anaconda3/lib/python3.11/site-packages (from qutip) (23.0)\n"
     ]
    }
   ],
   "source": [
    "!pip install qutip"
   ]
  },
  {
   "cell_type": "code",
   "execution_count": 2,
   "id": "4105ede3",
   "metadata": {},
   "outputs": [],
   "source": [
    "from qutip import *\n",
    "import numpy as np\n",
    "import matplotlib.pyplot as plt"
   ]
  },
  {
   "cell_type": "code",
   "execution_count": 11,
   "id": "b34c2895",
   "metadata": {},
   "outputs": [],
   "source": [
    "#This File contains all the parameters used in the program.\n",
    "#Physical constants, transition rates, etc.\n",
    "\n",
    "import numpy as np \n",
    "\n",
    "# Universal constants\n",
    "pi = np.pi\n",
    "h = 6.62607015e-34  # in J s\n",
    "hbar = h/(2*pi)\n",
    "c = 2.99792458e10   # cm/s\n",
    "kB = 1.380649e-23   # J/K\n",
    "eps0 = 8.8541878128e-14    # F/cm = C/ (V cm)\n",
    "# Dipolar moment\n",
    "d = 3.34e-31 # C cm\n",
    "\n",
    "#Transition energies in J (we converted the data from cm^-1 to J by multiplying by hc)\n",
    "w = 9811*h*c\n",
    "w1 = 237*h*c\n",
    "w2 = 138*h*c\n",
    "w3 = 102*h*c\n",
    "w4 = 132*h*c\n",
    "w5 = 150*h*c\n",
    "#Spontaneous Emission in s^-1\n",
    "gamma = 314.5\n",
    "#Non resonant transition rates in s^-1\n",
    "gamma_nr = 1e12 \n",
    "#Vibronic couplings in s^-1 (k/hbar)\n",
    "k_12 = 6.35e11\n",
    "k_23 = 2.8e11 \n",
    "k_34 = 2.25e11\n",
    "k_56 = 5.4e11 \n",
    "k_67 = 4.1e11 \n",
    "\n",
    "#Refraction index\n",
    "n = 1.45\n",
    "#Absortion Coefficients\n",
    "alpha_imp = 4e-4 # cm-1\n",
    "alpha_rad = 1e-2 # cm-1\n",
    "#Energy levels\n",
    "E0 = 0\n",
    "E1 = w1\n",
    "E2 = E1 + w2\n",
    "E3 = E2 + w3\n",
    "E4 = E3 + w\n",
    "E5 = E4 + w4\n",
    "E6 = E5 + w5 \n",
    "E_gs = np.array([E0,E1,E2,E3])\n",
    "E_es = np.array([E4,E5,E6])\n",
    "\n",
    "H = np.zeros(7, dtype=np.complex128)\n",
    "H[0] = E0\n",
    "H[1] = E1\n",
    "H[2] = E2\n",
    "H[3] = E3\n",
    "H[4] = E4\n",
    "H[5] = E5\n",
    "H[6] = E6\n",
    "\n"
   ]
  },
  {
   "cell_type": "code",
   "execution_count": 13,
   "id": "49f82089",
   "metadata": {},
   "outputs": [],
   "source": [
    "def Rabifreq(j_0):\n",
    "    E_0 = np.sqrt(2*j_0/(c*n*eps0))\n",
    "    return d*E_0/hbar\n",
    "\n",
    "def N(beta,omega):\n",
    "    return 1/(np.exp(beta*omega)-1)\n",
    "def Thermal_state(beta, H):\n",
    "    state = np.exp(-beta*H)\n",
    "    state[-3:] = [0,0,0]\n",
    "    return state / np.sum(state)\n",
    "\n",
    "\n",
    "\n"
   ]
  },
  {
   "cell_type": "code",
   "execution_count": 62,
   "id": "0bfd9c49",
   "metadata": {},
   "outputs": [],
   "source": [
    "def Hamiltonian(T, j_0_3, j_0_4):\n",
    "    beta = 1/(kB*T)\n",
    "    Omega_4 = Rabifreq(j_0_4*1e6)\n",
    "    Omega_3 = Rabifreq(j_0_3*1e6)\n",
    "    ks = [k_12, k_23, k_34, Omega_4, k_56, k_67]\n",
    "    ws = [w1, w2, w3, w, w4, w5]\n",
    "    ###=========Hamiltonian=============\n",
    "    H_ev = np.zeros((7,7), dtype = np.complex128)\n",
    "    for i in range(6):\n",
    "        H_ev[i, i+1] = ks[i]*(N(beta, ws[i])**0.5) \n",
    "    for i in range(1,7):\n",
    "        H_ev[i, i-1] = ks[i-1]*(N(beta, ws[i-1])**0.5) \n",
    "    H_ev[3,4] = Omega_4\n",
    "    H_ev[4,3] = Omega_4\n",
    "    #H_ev[2,4] = Omega_3\n",
    "    #H_ev[4,2] = Omega_3\n",
    "    return H_ev "
   ]
  },
  {
   "cell_type": "code",
   "execution_count": 87,
   "id": "dd728e63",
   "metadata": {},
   "outputs": [
    {
     "data": {
      "text/latex": [
       "Quantum object: dims = [[7], [7]], shape = (7, 7), type = oper, isherm = True $ \\\\ \\left(\\begin{matrix}0.0 & 436.505 & 0.0 & 0.0 & 0.0 & 0.0 & 0.0\\\\436.505 & 0.0 & 289.052 & 0.0 & 0.0 & 0.0 & 0.0\\\\0.0 & 289.052 & 0.0 & 283.252 & 0.0 & 0.0 & 0.0\\\\0.0 & 0.0 & 283.252 & 0.0 & 0.0 & 0.0 & 0.0\\\\0.0 & 0.0 & 0.0 & 0.0 & 0.0 & 574.543 & 0.0\\\\0.0 & 0.0 & 0.0 & 0.0 & 574.543 & 0.0 & 399.515\\\\0.0 & 0.0 & 0.0 & 0.0 & 0.0 & 399.515 & 0.0\\\\\\end{matrix}\\right)$"
      ],
      "text/plain": [
       "Quantum object: dims = [[7], [7]], shape = (7, 7), type = oper, isherm = True\n",
       "Qobj data =\n",
       "[[  0.         436.50493673   0.           0.           0.\n",
       "    0.           0.        ]\n",
       " [436.50493673   0.         289.05166942   0.           0.\n",
       "    0.           0.        ]\n",
       " [  0.         289.05166942   0.         283.25200587   0.\n",
       "    0.           0.        ]\n",
       " [  0.           0.         283.25200587   0.           0.\n",
       "    0.           0.        ]\n",
       " [  0.           0.           0.           0.           0.\n",
       "  574.54341713   0.        ]\n",
       " [  0.           0.           0.           0.         574.54341713\n",
       "    0.         399.51504246]\n",
       " [  0.           0.           0.           0.           0.\n",
       "  399.51504246   0.        ]]"
      ]
     },
     "execution_count": 87,
     "metadata": {},
     "output_type": "execute_result"
    }
   ],
   "source": [
    "c_nr = np.zeros((7,7))\n",
    "for i in range(6):\n",
    "    c_nr[i,i+1] = 1\n",
    "c_nr[3,4] = 0\n",
    "c_nr = np.sqrt(gamma_nr/1e9)* c_nr\n",
    "\n",
    "c_nr = Qobj(c_nr)\n",
    "\n",
    "c_se = np.zeros((7,7))\n",
    "for i in range(4):\n",
    "    for j in range(4, 7):\n",
    "        c_se[i,j] = 1\n",
    "c_se = np.sqrt(gamma/1e9)*c_nr\n",
    "c_se = Qobj(c_se)\n",
    "\n",
    "\n",
    "H = Hamiltonian(300, 0, 0)\n",
    "H = Qobj(H/1e9) \n",
    "H"
   ]
  },
  {
   "cell_type": "code",
   "execution_count": 88,
   "id": "7c080fe7",
   "metadata": {},
   "outputs": [
    {
     "data": {
      "text/latex": [
       "Quantum object: dims = [[7], [7]], shape = (7, 7), type = oper, isherm = True $ \\\\ \\left(\\begin{matrix}0.250 & 4.657\\times10^{-08}j & 8.892\\times10^{-09} & 4.294\\times10^{-10}j & 0.0 & 0.0 & 0.0\\\\-4.657\\times10^{-08}j & 0.250 & 5.071\\times10^{-08}j & 4.786\\times10^{-09} & 0.0 & 0.0 & 0.0\\\\8.892\\times10^{-09} & -5.071\\times10^{-08}j & 0.250 & 4.312\\times10^{-08}j & 0.0 & 0.0 & 0.0\\\\-4.294\\times10^{-10}j & 4.786\\times10^{-09} & -4.312\\times10^{-08}j & 0.250 & 0.0 & 0.0 & 0.0\\\\0.0 & 0.0 & 0.0 & 0.0 & 0.0 & 0.0 & 0.0\\\\0.0 & 0.0 & 0.0 & 0.0 & 0.0 & 0.0 & 0.0\\\\0.0 & 0.0 & 0.0 & 0.0 & 0.0 & 0.0 & 0.0\\\\\\end{matrix}\\right)$"
      ],
      "text/plain": [
       "Quantum object: dims = [[7], [7]], shape = (7, 7), type = oper, isherm = True\n",
       "Qobj data =\n",
       "[[2.50000067e-01+0.00000000e+00j 0.00000000e+00+4.65670868e-08j\n",
       "  8.89183122e-09+0.00000000e+00j 0.00000000e+00+4.29352721e-10j\n",
       "  0.00000000e+00+0.00000000e+00j 0.00000000e+00+0.00000000e+00j\n",
       "  0.00000000e+00+0.00000000e+00j]\n",
       " [0.00000000e+00-4.65670868e-08j 2.50000029e-01+0.00000000e+00j\n",
       "  0.00000000e+00+5.07056833e-08j 4.78637482e-09+0.00000000e+00j\n",
       "  0.00000000e+00+0.00000000e+00j 0.00000000e+00+0.00000000e+00j\n",
       "  0.00000000e+00+0.00000000e+00j]\n",
       " [8.89183122e-09+0.00000000e+00j 0.00000000e+00-5.07056833e-08j\n",
       "  2.49999979e-01+0.00000000e+00j 0.00000000e+00+4.31161822e-08j\n",
       "  0.00000000e+00+0.00000000e+00j 0.00000000e+00+0.00000000e+00j\n",
       "  0.00000000e+00+0.00000000e+00j]\n",
       " [0.00000000e+00-4.29352721e-10j 4.78637482e-09+0.00000000e+00j\n",
       "  0.00000000e+00-4.31161822e-08j 2.49999925e-01+0.00000000e+00j\n",
       "  0.00000000e+00+0.00000000e+00j 0.00000000e+00+0.00000000e+00j\n",
       "  0.00000000e+00+0.00000000e+00j]\n",
       " [0.00000000e+00+0.00000000e+00j 0.00000000e+00+0.00000000e+00j\n",
       "  0.00000000e+00+0.00000000e+00j 0.00000000e+00+0.00000000e+00j\n",
       "  0.00000000e+00+0.00000000e+00j 0.00000000e+00+0.00000000e+00j\n",
       "  0.00000000e+00+0.00000000e+00j]\n",
       " [0.00000000e+00+0.00000000e+00j 0.00000000e+00+0.00000000e+00j\n",
       "  0.00000000e+00+0.00000000e+00j 0.00000000e+00+0.00000000e+00j\n",
       "  0.00000000e+00+0.00000000e+00j 0.00000000e+00+0.00000000e+00j\n",
       "  0.00000000e+00+0.00000000e+00j]\n",
       " [0.00000000e+00+0.00000000e+00j 0.00000000e+00+0.00000000e+00j\n",
       "  0.00000000e+00+0.00000000e+00j 0.00000000e+00+0.00000000e+00j\n",
       "  0.00000000e+00+0.00000000e+00j 0.00000000e+00+0.00000000e+00j\n",
       "  0.00000000e+00+0.00000000e+00j]]"
      ]
     },
     "execution_count": 88,
     "metadata": {},
     "output_type": "execute_result"
    }
   ],
   "source": [
    "rho_ss = steadystate(H, [c_nr, c_nr.dag(), c_se])\n",
    "rho_ss"
   ]
  },
  {
   "cell_type": "code",
   "execution_count": null,
   "id": "4e83bab5",
   "metadata": {},
   "outputs": [],
   "source": []
  }
 ],
 "metadata": {
  "kernelspec": {
   "display_name": "Python 3 (ipykernel)",
   "language": "python",
   "name": "python3"
  },
  "language_info": {
   "codemirror_mode": {
    "name": "ipython",
    "version": 3
   },
   "file_extension": ".py",
   "mimetype": "text/x-python",
   "name": "python",
   "nbconvert_exporter": "python",
   "pygments_lexer": "ipython3",
   "version": "3.11.3"
  }
 },
 "nbformat": 4,
 "nbformat_minor": 5
}
