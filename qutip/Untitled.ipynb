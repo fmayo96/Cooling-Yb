{
 "cells": [
  {
   "cell_type": "code",
   "execution_count": 3,
   "id": "454a0fbe",
   "metadata": {},
   "outputs": [
    {
     "name": "stdout",
     "output_type": "stream",
     "text": [
      "Requirement already satisfied: qutip in /home/franco/anaconda3/lib/python3.11/site-packages (4.7.3)\r\n",
      "Requirement already satisfied: numpy>=1.16.6 in /home/franco/anaconda3/lib/python3.11/site-packages (from qutip) (1.24.3)\r\n",
      "Requirement already satisfied: scipy>=1.0 in /home/franco/anaconda3/lib/python3.11/site-packages (from qutip) (1.10.1)\r\n",
      "Requirement already satisfied: packaging in /home/franco/anaconda3/lib/python3.11/site-packages (from qutip) (23.0)\r\n"
     ]
    }
   ],
   "source": [
    "!pip install qutip"
   ]
  },
  {
   "cell_type": "code",
   "execution_count": 4,
   "id": "4105ede3",
   "metadata": {},
   "outputs": [],
   "source": [
    "from qutip import *\n",
    "import numpy as np\n",
    "import matplotlib.pyplot as plt"
   ]
  },
  {
   "cell_type": "code",
   "execution_count": 5,
   "id": "b34c2895",
   "metadata": {},
   "outputs": [],
   "source": [
    "#This File contains all the parameters used in the program.\n",
    "#Physical constants, transition rates, etc.\n",
    "\n",
    "import numpy as np \n",
    "\n",
    "# Universal constants\n",
    "pi = np.pi\n",
    "h = 6.62607015e-34  # in J s\n",
    "hbar = h/(2*pi)\n",
    "c = 2.99792458e10   # cm/s\n",
    "kB = 1.380649e-23   # J/K\n",
    "eps0 = 8.8541878128e-14    # F/cm = C/ (V cm)\n",
    "# Dipolar moment\n",
    "d = 3.34e-31 # C cm\n",
    "\n",
    "#Transition energies in J (we converted the data from cm^-1 to J by multiplying by hc)\n",
    "w = 9811*h*c\n",
    "w1 = 237*h*c\n",
    "w2 = 138*h*c\n",
    "w3 = 102*h*c\n",
    "w4 = 132*h*c\n",
    "w5 = 150*h*c\n",
    "#Spontaneous Emission in s^-1\n",
    "gamma = 314.5\n",
    "#Non resonant transition rates in s^-1\n",
    "gamma_nr = 1e12 \n",
    "#Vibronic couplings in s^-1 (k/hbar)\n",
    "k_12 = 6.35e11\n",
    "k_23 = 2.8e11 \n",
    "k_34 = 2.25e11\n",
    "k_56 = 5.4e11 \n",
    "k_67 = 4.1e11 \n",
    "\n",
    "#Refraction index\n",
    "n = 1.45\n",
    "#Absortion Coefficients\n",
    "alpha_imp = 4e-4 # cm-1\n",
    "alpha_rad = 1e-2 # cm-1\n",
    "#Energy levels\n",
    "E0 = 0\n",
    "E1 = w1\n",
    "E2 = E1 + w2\n",
    "E3 = E2 + w3\n",
    "E4 = E3 + w\n",
    "E5 = E4 + w4\n",
    "E6 = E5 + w5 \n",
    "E_gs = np.array([E0,E1,E2,E3])\n",
    "E_es = np.array([E4,E5,E6])\n",
    "\n",
    "H = np.zeros(7, dtype=np.complex128)\n",
    "H[0] = E0\n",
    "H[1] = E1\n",
    "H[2] = E2\n",
    "H[3] = E3\n",
    "H[4] = E4\n",
    "H[5] = E5\n",
    "H[6] = E6\n",
    "\n"
   ]
  },
  {
   "cell_type": "code",
   "execution_count": 6,
   "id": "49f82089",
   "metadata": {},
   "outputs": [],
   "source": [
    "def Rabifreq(j_0):\n",
    "    E_0 = np.sqrt(2*j_0*1e6/(c*n*eps0))\n",
    "    return d*E_0/hbar\n",
    "\n",
    "def N(beta,omega):\n",
    "    return 1/(np.exp(beta*omega)-1)\n",
    "def Thermal_state(beta, H):\n",
    "    state = np.exp(-beta*H)\n",
    "    state[-3:] = [0,0,0]\n",
    "    return state / np.sum(state)\n",
    "\n",
    "\n",
    "\n"
   ]
  },
  {
   "cell_type": "code",
   "execution_count": 7,
   "id": "0bfd9c49",
   "metadata": {},
   "outputs": [],
   "source": [
    "def Hamiltonian(j_0_3, j_0_4):\n",
    "    Omega_4 = Rabifreq(j_0_4)\n",
    "    Omega_3 = Rabifreq(j_0_3)\n",
    "    H = np.zeros((7,7))\n",
    "    H[3,4] = Omega_4 \n",
    "    H[4,3] = Omega_4 \n",
    "    H[2,4] = Omega_3\n",
    "    H[4,2] = Omega_3\n",
    "    return H\n"
   ]
  },
  {
   "cell_type": "code",
   "execution_count": 14,
   "id": "dd728e63",
   "metadata": {},
   "outputs": [],
   "source": [
    "def steady_state(T, j_0_3, j_0_4):\n",
    "    beta = 1/(T*kB)\n",
    "    c_ops = []\n",
    "    for i in range(6):\n",
    "        c_nr = np.zeros((7,7))\n",
    "        ws = [w1, w2, w3, w4, w4, w5]\n",
    "        c_nr[i,i+1] = np.sqrt(N(beta, ws[i])+1)\n",
    "        c_nr[3,4] = 0\n",
    "        c_nr = np.sqrt(gamma_nr)* c_nr\n",
    "        c_nr = Qobj(c_nr)\n",
    "        c_ops.append(c_nr)\n",
    "        \n",
    "    for i in range(1,7):\n",
    "        c_nr = np.zeros((7,7))\n",
    "        ws = [w1, w2, w3, w4, w4, w5]\n",
    "        c_nr[i,i-1] = np.sqrt(N(beta, ws[i-1]))\n",
    "        c_nr[4,3] = 0\n",
    "        c_nr = np.sqrt(gamma_nr)* c_nr\n",
    "        c_nr = Qobj(c_nr)\n",
    "        c_ops.append(c_nr)\n",
    "    \n",
    "    \n",
    "    c_se = np.zeros((7,7))\n",
    "    for i in range(4):\n",
    "        for j in range(4, 7):\n",
    "            c_se[i,j] = 1\n",
    "    c_se = np.sqrt(gamma)*c_se\n",
    "    c_se = Qobj(c_se)\n",
    "    c_ops.append(c_se)\n",
    "\n",
    "    H = Hamiltonian(j_0_3, j_0_4)\n",
    "    H = Qobj(H) \n",
    "    rho_ss = steadystate(H, c_ops, method='iterative-lgmres')\n",
    "    return rho_ss"
   ]
  },
  {
   "cell_type": "code",
   "execution_count": 15,
   "id": "7c080fe7",
   "metadata": {},
   "outputs": [
    {
     "data": {
      "text/latex": [
       "Quantum object: dims = [[7], [7]], shape = (7, 7), type = oper, isherm = True $ \\\\ \\left(\\begin{matrix}0.630 & 0.0 & 0.0 & 0.0 & 0.0 & 0.0 & 0.0\\\\0.0 & 0.202 & 0.0 & 0.0 & 0.0 & 0.0 & 0.0\\\\0.0 & 0.0 & 0.104 & 0.0 & 0.0 & 0.0 & 0.0\\\\0.0 & 0.0 & 0.0 & 0.064 & 0.0 & 0.0 & 0.0\\\\0.0 & 0.0 & 0.0 & 0.0 & 0.0 & 0.0 & 0.0\\\\0.0 & 0.0 & 0.0 & 0.0 & 0.0 & 0.0 & 0.0\\\\0.0 & 0.0 & 0.0 & 0.0 & 0.0 & 0.0 & 0.0\\\\\\end{matrix}\\right)$"
      ],
      "text/plain": [
       "Quantum object: dims = [[7], [7]], shape = (7, 7), type = oper, isherm = True\n",
       "Qobj data =\n",
       "[[0.62974139 0.         0.         0.         0.         0.\n",
       "  0.        ]\n",
       " [0.         0.2020824  0.         0.         0.         0.\n",
       "  0.        ]\n",
       " [0.         0.         0.10425483 0.         0.         0.\n",
       "  0.        ]\n",
       " [0.         0.         0.         0.06392139 0.         0.\n",
       "  0.        ]\n",
       " [0.         0.         0.         0.         0.         0.\n",
       "  0.        ]\n",
       " [0.         0.         0.         0.         0.         0.\n",
       "  0.        ]\n",
       " [0.         0.         0.         0.         0.         0.\n",
       "  0.        ]]"
      ]
     },
     "execution_count": 15,
     "metadata": {},
     "output_type": "execute_result"
    }
   ],
   "source": [
    "rho_ss = steady_state(300, 0.0, 0.0)\n",
    "rho_ss"
   ]
  },
  {
   "cell_type": "code",
   "execution_count": 16,
   "id": "4e83bab5",
   "metadata": {},
   "outputs": [
    {
     "name": "stdout",
     "output_type": "stream",
     "text": [
      "0j\n"
     ]
    }
   ],
   "source": [
    "print(rho_ss[4,4] + rho_ss[5,5] + rho_ss[6,6])"
   ]
  },
  {
   "cell_type": "code",
   "execution_count": 17,
   "id": "6dec51dc",
   "metadata": {},
   "outputs": [],
   "source": [
    "def Lindbladian(c_op : Qobj, rho : Qobj) -> Qobj:\n",
    "  return c_op * rho * c_op.dag() - 0.5 * (c_op.dag() * c_op * rho + rho * c_op.dag() * c_op)"
   ]
  },
  {
   "cell_type": "code",
   "execution_count": 18,
   "id": "e0e4726e",
   "metadata": {},
   "outputs": [],
   "source": [
    "beta = 1/(300*kB)\n",
    "c_nr = np.zeros((7,7))\n",
    "ws = [w1, w2, w3, w4, w4, w5]\n",
    "for i in range(6):\n",
    "    c_nr[i,i+1] = np.sqrt(N(beta, ws[i])+1)\n",
    "c_nr[3,4] = 0\n",
    "c_nr = np.sqrt(gamma_nr)* c_nr\n",
    "\n",
    "c_nr = Qobj(c_nr)\n",
    "\n",
    "c_nr_dag = np.zeros((7,7))\n",
    "for i in range(1, 7):\n",
    "    c_nr_dag[i,i-1] = np.sqrt(N(beta, ws[i-1]))\n",
    "c_nr_dag[4,3] = 0\n",
    "\n",
    "c_nr_dag = Qobj(c_nr_dag * np.sqrt(gamma_nr))\n",
    "\n",
    "c_se = np.zeros((7,7))\n",
    "for i in range(4):\n",
    "    for j in range(4, 7):\n",
    "        c_se[i,j] = 1\n",
    "c_se = np.sqrt(gamma)*c_se\n",
    "c_se = Qobj(c_se)\n"
   ]
  },
  {
   "cell_type": "code",
   "execution_count": 23,
   "id": "6c29b676",
   "metadata": {},
   "outputs": [
    {
     "data": {
      "text/latex": [
       "Quantum object: dims = [[7], [7]], shape = (7, 7), type = oper, isherm = True $ \\\\ \\left(\\begin{matrix}1.831\\times10^{-04} & 0.0 & 0.0 & 0.0 & 0.0 & 0.0 & 0.0\\\\0.0 & -2.441\\times10^{-04} & 0.0 & 0.0 & 0.0 & 0.0 & 0.0\\\\0.0 & 0.0 & 3.052\\times10^{-05} & 0.0 & 0.0 & 0.0 & 0.0\\\\0.0 & 0.0 & 0.0 & -3.052\\times10^{-05} & 0.0 & 0.0 & 0.0\\\\0.0 & 0.0 & 0.0 & 0.0 & 0.0 & 0.0 & 0.0\\\\0.0 & 0.0 & 0.0 & 0.0 & 0.0 & 0.0 & 0.0\\\\0.0 & 0.0 & 0.0 & 0.0 & 0.0 & 0.0 & 0.0\\\\\\end{matrix}\\right)$"
      ],
      "text/plain": [
       "Quantum object: dims = [[7], [7]], shape = (7, 7), type = oper, isherm = True\n",
       "Qobj data =\n",
       "[[ 1.83105469e-04  0.00000000e+00  0.00000000e+00  0.00000000e+00\n",
       "   0.00000000e+00  0.00000000e+00  0.00000000e+00]\n",
       " [ 0.00000000e+00 -2.44140625e-04  0.00000000e+00  0.00000000e+00\n",
       "   0.00000000e+00  0.00000000e+00  0.00000000e+00]\n",
       " [ 0.00000000e+00  0.00000000e+00  3.05175781e-05  0.00000000e+00\n",
       "   0.00000000e+00  0.00000000e+00  0.00000000e+00]\n",
       " [ 0.00000000e+00  0.00000000e+00  0.00000000e+00 -3.05175781e-05\n",
       "   0.00000000e+00  0.00000000e+00  0.00000000e+00]\n",
       " [ 0.00000000e+00  0.00000000e+00  0.00000000e+00  0.00000000e+00\n",
       "   0.00000000e+00  0.00000000e+00  0.00000000e+00]\n",
       " [ 0.00000000e+00  0.00000000e+00  0.00000000e+00  0.00000000e+00\n",
       "   0.00000000e+00  0.00000000e+00  0.00000000e+00]\n",
       " [ 0.00000000e+00  0.00000000e+00  0.00000000e+00  0.00000000e+00\n",
       "   0.00000000e+00  0.00000000e+00  0.00000000e+00]]"
      ]
     },
     "execution_count": 23,
     "metadata": {},
     "output_type": "execute_result"
    }
   ],
   "source": [
    "vib = Lindbladian(c_nr, rho_ss) \n",
    "vib += Lindbladian(c_nr_dag, rho_ss)\n",
    "spont = Lindbladian(c_se, rho_ss)\n",
    "H = Qobj(Hamiltonian(0,0.0))\n",
    "unit = -1j* (H*rho_ss - rho_ss * H)\n",
    "vib "
   ]
  },
  {
   "cell_type": "code",
   "execution_count": 25,
   "id": "9c610b19",
   "metadata": {},
   "outputs": [
    {
     "name": "stdout",
     "output_type": "stream",
     "text": [
      "-6.103515625e-05\n"
     ]
    }
   ],
   "source": [
    "Hs = Qobj(np.diag([E0, E1, E2, E3, E4, E5, E6]))\n",
    "Qvib = (vib).tr()\n",
    "Qse = (spont).tr()\n",
    "W = (Hs*unit).tr()\n",
    "print(Qvib)"
   ]
  },
  {
   "cell_type": "code",
   "execution_count": null,
   "id": "27cb631c",
   "metadata": {},
   "outputs": [],
   "source": []
  },
  {
   "cell_type": "code",
   "execution_count": null,
   "id": "cbd3aa85",
   "metadata": {},
   "outputs": [],
   "source": []
  }
 ],
 "metadata": {
  "kernelspec": {
   "display_name": "Python 3 (ipykernel)",
   "language": "python",
   "name": "python3"
  },
  "language_info": {
   "codemirror_mode": {
    "name": "ipython",
    "version": 3
   },
   "file_extension": ".py",
   "mimetype": "text/x-python",
   "name": "python",
   "nbconvert_exporter": "python",
   "pygments_lexer": "ipython3",
   "version": "3.11.3"
  }
 },
 "nbformat": 4,
 "nbformat_minor": 5
}
