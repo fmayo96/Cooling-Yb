{
 "cells": [
  {
   "cell_type": "code",
   "execution_count": 1,
   "id": "e3b9264f-6de1-456d-9fc0-7e84c66e849b",
   "metadata": {},
   "outputs": [],
   "source": [
    "import numpy as np \n",
    "import matplotlib.pyplot as plt"
   ]
  },
  {
   "cell_type": "code",
   "execution_count": 4,
   "id": "84835b43-04b7-4b8d-93f8-d689127a059e",
   "metadata": {},
   "outputs": [],
   "source": [
    "ORDER = [4, 7, 9, 11, 1, 5, 6, 10, 0, 2, 3, 8]\n",
    "\n",
    "with np.load('Purcell_enhanced_emission.npz') as data:\n",
    "    g = data['convo_lines_T_n']\n",
    "    g = g[1][-1]\n",
    "    g = g[:,ORDER]\n",
    "    g = g.reshape(10, 3, 4)\n",
    "Ts = [78, 100, 125, 150, 175, 200, 225, 250, 275, 300]\n",
    "gammas = {}\n",
    "for i,T in enumerate(Ts):\n",
    "    gammas[T] = g[i]\n"
   ]
  },
  {
   "cell_type": "code",
   "execution_count": 5,
   "id": "f28287dd-cfe9-4eb8-b34d-84a83e74a419",
   "metadata": {},
   "outputs": [
    {
     "data": {
      "text/plain": [
       "array([[ 6.98525734e+01,  1.82430279e-01,  2.06686027e-01,\n",
       "         1.59474454e-02],\n",
       "       [ 3.81701743e-02,  9.45833212e-03,  1.56578724e-02,\n",
       "         7.87512409e-03],\n",
       "       [-1.93484856e-05,  6.79537332e-03,  9.39928008e-02,\n",
       "         6.64709759e-02]])"
      ]
     },
     "execution_count": 5,
     "metadata": {},
     "output_type": "execute_result"
    }
   ],
   "source": [
    "gammas[78]"
   ]
  },
  {
   "cell_type": "code",
   "execution_count": null,
   "id": "b13494a9-bde9-4544-bcbb-154fb71a90db",
   "metadata": {},
   "outputs": [],
   "source": []
  }
 ],
 "metadata": {
  "kernelspec": {
   "display_name": "Python 3 (ipykernel)",
   "language": "python",
   "name": "python3"
  },
  "language_info": {
   "codemirror_mode": {
    "name": "ipython",
    "version": 3
   },
   "file_extension": ".py",
   "mimetype": "text/x-python",
   "name": "python",
   "nbconvert_exporter": "python",
   "pygments_lexer": "ipython3",
   "version": "3.9.6"
  }
 },
 "nbformat": 4,
 "nbformat_minor": 5
}
