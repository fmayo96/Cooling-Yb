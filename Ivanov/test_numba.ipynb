{
 "cells": [
  {
   "cell_type": "code",
   "execution_count": 24,
   "id": "e415da80",
   "metadata": {},
   "outputs": [
    {
     "name": "stdout",
     "output_type": "stream",
     "text": [
      "Requirement already satisfied: scipy in /Users/francomayo/anaconda3/envs/coolingyb/lib/python3.11/site-packages (1.11.1)\r\n",
      "Requirement already satisfied: numpy<1.28.0,>=1.21.6 in /Users/francomayo/anaconda3/envs/coolingyb/lib/python3.11/site-packages (from scipy) (1.24.3)\r\n"
     ]
    }
   ],
   "source": [
    "!python -m pip install scipy\n",
    "import numpy as np \n",
    "from numba import njit"
   ]
  },
  {
   "cell_type": "code",
   "execution_count": 25,
   "id": "50c243f1",
   "metadata": {},
   "outputs": [
    {
     "name": "stdout",
     "output_type": "stream",
     "text": [
      "[[2.+0.j 0.+0.j 0.+0.j 0.+0.j]\n",
      " [0.+0.j 2.+0.j 0.+0.j 0.+0.j]\n",
      " [0.+0.j 0.+0.j 2.+0.j 0.+0.j]\n",
      " [0.+0.j 0.+0.j 0.+0.j 2.+0.j]]\n"
     ]
    }
   ],
   "source": [
    "@njit\n",
    "def test_numba():\n",
    "    A = np.zeros((4,4), dtype = np.complex128)\n",
    "    B = np.zeros((4,4), dtype = np.complex128)\n",
    "    for i in range(4):\n",
    "        A[i,i] = 1\n",
    "        B[i,i] = 2\n",
    "    return A@B\n",
    "a = test_numba()\n",
    "print(a)"
   ]
  }
 ],
 "metadata": {
  "kernelspec": {
   "display_name": "Python 3 (ipykernel)",
   "language": "python",
   "name": "python3"
  },
  "language_info": {
   "codemirror_mode": {
    "name": "ipython",
    "version": 3
   },
   "file_extension": ".py",
   "mimetype": "text/x-python",
   "name": "python",
   "nbconvert_exporter": "python",
   "pygments_lexer": "ipython3",
   "version": "3.11.4"
  }
 },
 "nbformat": 4,
 "nbformat_minor": 5
}
