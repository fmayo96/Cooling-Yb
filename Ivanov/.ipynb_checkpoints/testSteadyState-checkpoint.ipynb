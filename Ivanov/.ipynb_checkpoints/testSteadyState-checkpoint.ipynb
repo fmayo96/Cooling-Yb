{
 "cells": [
  {
   "cell_type": "code",
   "execution_count": 1,
   "id": "03522365",
   "metadata": {},
   "outputs": [],
   "source": [
    "import numpy as np "
   ]
  },
  {
   "cell_type": "code",
   "execution_count": 2,
   "id": "4db0e50b",
   "metadata": {},
   "outputs": [],
   "source": [
    "# Universal constants\n",
    "pi = np.pi\n",
    "h = 6.62607015e-34  # in J s\n",
    "hbar = h/(2*pi)\n",
    "c = 2.99792458e10   # cm/s\n",
    "kB = 1.380649e-23   # J/K\n",
    "eps0 = 8.8541878128e-14    # F/cm = C/ (V cm)\n",
    "# Dipolar moment\n",
    "d = 3.34e-31 # C cm\n",
    "\n",
    "#Transition energies in J (we converted the data from cm^-1 to J by multiplying by hc)\n",
    "w = 9811*h*c\n",
    "w1 = 237*h*c\n",
    "w2 = 138*h*c\n",
    "w3 = 102*h*c\n",
    "w4 = 132*h*c\n",
    "w5 = 150*h*c\n",
    "#Spontaneous Emission in s^-1\n",
    "gamma = 314.5\n",
    "#Non resonant transition rates in s^-1\n",
    "gamma_nr = 1e12 \n",
    "#Vibronic couplings in s^-1 (k/hbar)\n",
    "k_12 = 6.35e11\n",
    "k_23 = 2.8e11 \n",
    "k_34 = 2.25e11\n",
    "k_56 = 5.4e11 \n",
    "k_67 = 4.1e11 \n",
    "\n",
    "#Refraction index\n",
    "n = 1.45\n",
    "#Absortion Coefficients\n",
    "alpha_imp = 4e-4 # cm-1\n",
    "alpha_rad = 1e-2 # cm-1\n",
    "#Energy levels\n",
    "E0 = 0\n",
    "E1 = w1\n",
    "E2 = E1 + w2\n",
    "E3 = E2 + w3\n",
    "E4 = E3 + w\n",
    "E5 = E4 + w4\n",
    "E6 = E5 + w5 \n",
    "H = np.array([E0,E1,E2,E3,E4,E5,E6])"
   ]
  },
  {
   "cell_type": "code",
   "execution_count": 3,
   "id": "b42cc57d",
   "metadata": {},
   "outputs": [
    {
     "data": {
      "text/plain": [
       "array([6.29741391e-01, 2.02082395e-01, 1.04254826e-01, 6.39213876e-02,\n",
       "       2.34895597e-22, 1.24721010e-22, 6.07453709e-23])"
      ]
     },
     "execution_count": 3,
     "metadata": {},
     "output_type": "execute_result"
    }
   ],
   "source": [
    "def Rabifreq(j_0):\n",
    "    E_0 = np.sqrt(2*j_0/(c*n*eps0))\n",
    "    return d*E_0/hbar\n",
    "\n",
    "def N(beta,omega):\n",
    "    return 1/(np.exp(beta*omega)-1)\n",
    "\n",
    "\n",
    "def Thermal_state(beta, H):\n",
    "    return np.exp(-beta*H)/np.sum(np.exp(-beta*H))\n",
    "Thermal_state(1/(kB*300),H)\n"
   ]
  },
  {
   "cell_type": "code",
   "execution_count": 4,
   "id": "da3336ff",
   "metadata": {},
   "outputs": [],
   "source": [
    "beta = 1/(kB*300)\n",
    "Omega_4 = Rabifreq(0.6*1e6)\n",
    "ks = [k_12, k_23, k_34, Omega_4, k_56, k_67]\n",
    "ws = [w1, w2, w3, w, w4, w5]\n",
    "###=========Hamiltonian=============\n",
    "H_ev = np.zeros((7,7), dtype = complex)\n",
    "for i in range(6):\n",
    "    H_ev[i, i+1] = ks[i]*N(beta, ws[i])**0.5\n",
    "for i in range(1,7):\n",
    "    H_ev[i, i-1] = ks[i-1]*N(beta, ws[i-1])**0.5\n",
    "H_ev[3,4] = Omega_4\n",
    "H_ev[4,3] = Omega_4\n",
    "###=======Decoherence Matrix========\n",
    "def decoh(rho):\n",
    "    Decoh = np.zeros((7,7), dtype = complex)\n",
    "    for i in range(4):\n",
    "        for j in range(4,7):\n",
    "            Decoh[i,j] = -0.5 * gamma_nr\n",
    "            Decoh[j,i] = -0.5 * gamma_nr\n",
    "    for i in range(6):\n",
    "        Decoh[i, i+1] = -0.5*gamma_nr\n",
    "        Decoh[i+1, i] = -0.5*gamma_nr\n",
    "    out = Decoh*rho\n",
    "    return out\n",
    "###======Non radiative==============\n",
    "def nonRad(rho):\n",
    "    diag = np.diag(rho)\n",
    "    excitations = np.zeros(7, dtype = complex)\n",
    "    decay = np.zeros(7, dtype = complex)\n",
    "    for i in range(6):\n",
    "        if i !=3:\n",
    "            excitations[i] = gamma_nr*diag[i+1]\n",
    "    for i in range(1,7):\n",
    "        if i != 4:\n",
    "            decay[i] = -gamma_nr*diag[i]\n",
    "    out = np.diag(excitations) + np.diag(decay)\n",
    "    return out\n",
    "#===========Spontaneous emission=======\n",
    "def spontEm(rho):\n",
    "    diag = np.diag(rho)\n",
    "    _spontEm = np.zeros((7,7), dtype = complex)\n",
    "    for i in range(4):\n",
    "        _spontEm[i,i] = gamma * np.sum(diag[4:])\n",
    "    for i in range(4, 7):\n",
    "        _spontEm[i,i] = -4*gamma*diag[i]\n",
    "    return _spontEm\n",
    "\n",
    "def Lliouv(rho):\n",
    "    lliouv = -1j*H_ev@rho + 1j*rho@H_ev + decoh(rho) + nonRad(rho) + spontEm(rho)\n",
    "    return lliouv\n"
   ]
  },
  {
   "cell_type": "code",
   "execution_count": 5,
   "id": "7ebdb39c",
   "metadata": {},
   "outputs": [
    {
     "name": "stdout",
     "output_type": "stream",
     "text": [
      "[[6.29741391e-01 0.00000000e+00 0.00000000e+00 0.00000000e+00\n",
      "  0.00000000e+00 0.00000000e+00 0.00000000e+00]\n",
      " [0.00000000e+00 2.02082395e-01 0.00000000e+00 0.00000000e+00\n",
      "  0.00000000e+00 0.00000000e+00 0.00000000e+00]\n",
      " [0.00000000e+00 0.00000000e+00 1.04254826e-01 0.00000000e+00\n",
      "  0.00000000e+00 0.00000000e+00 0.00000000e+00]\n",
      " [0.00000000e+00 0.00000000e+00 0.00000000e+00 6.39213876e-02\n",
      "  0.00000000e+00 0.00000000e+00 0.00000000e+00]\n",
      " [0.00000000e+00 0.00000000e+00 0.00000000e+00 0.00000000e+00\n",
      "  2.34895597e-22 0.00000000e+00 0.00000000e+00]\n",
      " [0.00000000e+00 0.00000000e+00 0.00000000e+00 0.00000000e+00\n",
      "  0.00000000e+00 1.24721010e-22 0.00000000e+00]\n",
      " [0.00000000e+00 0.00000000e+00 0.00000000e+00 0.00000000e+00\n",
      "  0.00000000e+00 0.00000000e+00 6.07453709e-23]]\n"
     ]
    },
    {
     "ename": "TypeError",
     "evalue": "'float' object cannot be interpreted as an integer",
     "output_type": "error",
     "traceback": [
      "\u001b[0;31m---------------------------------------------------------------------------\u001b[0m",
      "\u001b[0;31mTypeError\u001b[0m                                 Traceback (most recent call last)",
      "Cell \u001b[0;32mIn[5], line 9\u001b[0m\n\u001b[1;32m      7\u001b[0m rho \u001b[38;5;241m=\u001b[39m np\u001b[38;5;241m.\u001b[39mzeros((\u001b[38;5;241m7\u001b[39m,\u001b[38;5;241m7\u001b[39m), dtype \u001b[38;5;241m=\u001b[39m \u001b[38;5;28mcomplex\u001b[39m)\n\u001b[1;32m      8\u001b[0m rho \u001b[38;5;241m=\u001b[39m rho_i\n\u001b[0;32m----> 9\u001b[0m \u001b[38;5;28;01mfor\u001b[39;00m n \u001b[38;5;129;01min\u001b[39;00m tqdm(\u001b[38;5;28mrange\u001b[39m(N\u001b[38;5;241m-\u001b[39m\u001b[38;5;241m1\u001b[39m)):\n\u001b[1;32m     10\u001b[0m     rho \u001b[38;5;241m=\u001b[39m rho \u001b[38;5;241m+\u001b[39m dt\u001b[38;5;241m*\u001b[39mLliouv(rho)\n\u001b[1;32m     12\u001b[0m \u001b[38;5;28mprint\u001b[39m(np\u001b[38;5;241m.\u001b[39mdiag(np\u001b[38;5;241m.\u001b[39mreal(rho)))\n",
      "\u001b[0;31mTypeError\u001b[0m: 'float' object cannot be interpreted as an integer"
     ]
    }
   ],
   "source": [
    "from tqdm import tqdm\n",
    "tf = 1/314.5/1000\n",
    "dt = 5e-13\n",
    "N = int(tf/dt)\n",
    "rho_i = Thermal_state(beta, H)\n",
    "rho_i = np.diag(rho_i)\n",
    "print(rho_i)\n",
    "rho = np.zeros((7,7), dtype = complex)\n",
    "rho = rho_i\n",
    "for n in tqdm(range(N-1)):\n",
    "    rho = rho + dt*Lliouv(rho)\n",
    "\n",
    "print(np.diag(np.real(rho)))"
   ]
  },
  {
   "cell_type": "code",
   "execution_count": 265,
   "id": "9b2fea99",
   "metadata": {},
   "outputs": [
    {
     "name": "stdout",
     "output_type": "stream",
     "text": [
      "Initial trace: 1.0\n",
      "Final trace: (1.0000000000062317+0j)\n",
      "Initial state\n",
      "[6.29741391e-01 2.02082395e-01 1.04254826e-01 6.39213876e-02\n",
      " 2.34895597e-22 1.24721010e-22 6.07453709e-23]\n",
      "Final state\n",
      "[6.27306654e-01+0.j 2.01526184e-01+0.j 1.03842055e-01+0.j\n",
      " 6.44326521e-02+0.j 1.61435041e-03+0.j 8.61531344e-04+0.j\n",
      " 4.16573878e-04+0.j]\n"
     ]
    }
   ],
   "source": [
    "print('Initial trace:',np.diag(rho_i).sum())\n",
    "print('Final trace:',np.diag(rho).sum())\n",
    "print('Initial state')\n",
    "print(np.diag(rho_i))\n",
    "print('Final state')\n",
    "print(np.diag(rho))"
   ]
  }
 ],
 "metadata": {
  "kernelspec": {
   "display_name": "Python 3 (ipykernel)",
   "language": "python",
   "name": "python3"
  },
  "language_info": {
   "codemirror_mode": {
    "name": "ipython",
    "version": 3
   },
   "file_extension": ".py",
   "mimetype": "text/x-python",
   "name": "python",
   "nbconvert_exporter": "python",
   "pygments_lexer": "ipython3",
   "version": "3.11.4"
  }
 },
 "nbformat": 4,
 "nbformat_minor": 5
}
